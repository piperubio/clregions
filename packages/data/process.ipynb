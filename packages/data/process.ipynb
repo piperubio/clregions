{
 "cells": [
  {
   "cell_type": "markdown",
   "metadata": {},
   "source": [
    "# Chile Consolidación de Datos territoriales"
   ]
  },
  {
   "cell_type": "code",
   "execution_count": null,
   "metadata": {},
   "outputs": [],
   "source": [
    "import pandas as pd\n",
    "import json"
   ]
  },
  {
   "cell_type": "markdown",
   "metadata": {},
   "source": [
    "## Extración"
   ]
  },
  {
   "cell_type": "markdown",
   "metadata": {},
   "source": [
    "### Listado y Nombre de Regiones según la Ley 21.074 del 2018"
   ]
  },
  {
   "cell_type": "code",
   "execution_count": null,
   "metadata": {},
   "outputs": [],
   "source": [
    "ley_regiones_df = pd.read_csv(\"sources/ley-regiones.csv\", dtype=str)\n",
    "ley_regiones_df"
   ]
  },
  {
   "cell_type": "markdown",
   "metadata": {},
   "source": [
    "### Consolidado de Regiones, Provincias y Comunas hasta el 2018"
   ]
  },
  {
   "cell_type": "code",
   "execution_count": null,
   "metadata": {},
   "outputs": [],
   "source": [
    "observatoriologistico_df = pd.read_csv(\"sources/observatoriologistico.csv\", dtype=str)\n",
    "observatoriologistico_df"
   ]
  },
  {
   "cell_type": "markdown",
   "metadata": {},
   "source": [
    "### Estandarización Internacional Territorial Chile"
   ]
  },
  {
   "cell_type": "code",
   "execution_count": null,
   "metadata": {},
   "outputs": [],
   "source": [
    "\n",
    "iso_df = pd.read_csv(\"sources/iso.csv\")\n",
    "iso_df"
   ]
  },
  {
   "cell_type": "markdown",
   "metadata": {},
   "source": [
    "## Transformaciones"
   ]
  },
  {
   "cell_type": "code",
   "execution_count": null,
   "metadata": {},
   "outputs": [],
   "source": [
    "def apply_replacements(text, replacements):\n",
    "    for wrong, correct in replacements.items():\n",
    "        text = text.replace(wrong, correct)\n",
    "    return text\n",
    "\n",
    "replacements = {\n",
    "    \"Aisén del General Carlos Ibañez del Campo\": \"Aysén del General Carlos Ibáñez del Campo\",\n",
    "    \"Magallanes\": \"Magallanes y de la Antártica Chilena\",\n",
    "    \"Región Metropolitana de Santiago\": \"Metropolitana de Santiago\",\n",
    "}\n",
    "iso_df[\"corrected_name\"] = iso_df[\"Subdivision name\"].apply(\n",
    "    lambda x: apply_replacements(x, replacements)\n",
    ")\n",
    "\n",
    "# Preprocesar iso_df para hacer la correspondencia más directa y limpiar el código ISO\n",
    "iso_df[\"clean_iso_code\"] = iso_df[\"3166-2 code\"].str.replace(\"*\", \"\")\n",
    "\n",
    "# Unir los dataframes en los nombres corregidos y necesarios\n",
    "merged_df = observatoriologistico_df.merge(\n",
    "    iso_df[[\"corrected_name\", \"clean_iso_code\"]],\n",
    "    left_on=\"Nombre Región\",\n",
    "    right_on=\"corrected_name\",\n",
    "    how=\"left\",\n",
    ")\n",
    "merged_df = merged_df.merge(\n",
    "    ley_regiones_df[[\"código\", \"nombre\"]],\n",
    "    left_on=\"Código Región\",\n",
    "    right_on=\"código\",\n",
    "    how=\"left\",\n",
    ")\n",
    "merged_df"
   ]
  },
  {
   "cell_type": "markdown",
   "metadata": {},
   "source": [
    "## Carga"
   ]
  },
  {
   "cell_type": "markdown",
   "metadata": {},
   "source": [
    "### CSV\n",
    "#### Construcción de Regiones CSV"
   ]
  },
  {
   "cell_type": "code",
   "execution_count": null,
   "metadata": {},
   "outputs": [],
   "source": [
    "# Seleccionar y renombrar las columnas necesarias para el DataFrame final\n",
    "regions_df = merged_df[\n",
    "    [\"Código Región\", \"nombre\", \"Nombre Región\", \"Abreviatura Región\", \"clean_iso_code\"]\n",
    "]\n",
    "regions_df.columns = [\"id\", \"name\", \"short_name\", \"abbreviation\", \"iso_code\"]\n",
    "# Pylance:\n",
    "regions_df = regions_df.drop_duplicates(subset=[\"id\"], keep=\"last\")\n",
    "\n",
    "# Guardar a CSV y mostrar el DataFrame\n",
    "regions_df.to_csv(\"csv/regions.csv\", index=False)\n",
    "regions_df"
   ]
  },
  {
   "cell_type": "markdown",
   "metadata": {},
   "source": [
    "#### Construcción de Provincias CSV"
   ]
  },
  {
   "cell_type": "code",
   "execution_count": null,
   "metadata": {},
   "outputs": [],
   "source": [
    "provinces_df = observatoriologistico_df[\n",
    "    [\"Código Provincia\", \"Nombre Provincia\", \"Código Región\"]\n",
    "].copy()\n",
    "provinces_df.columns = [\"id\", \"name\", \"region_id\"]\n",
    "\n",
    "provinces_df = provinces_df.drop_duplicates(subset=[\"id\"], keep=\"last\")\n",
    "\n",
    "provinces_df.to_csv(\"csv/provinces.csv\", index=False)\n",
    "provinces_df"
   ]
  },
  {
   "cell_type": "markdown",
   "metadata": {},
   "source": [
    "#### Construcción de Comunas CSV"
   ]
  },
  {
   "cell_type": "code",
   "execution_count": null,
   "metadata": {},
   "outputs": [],
   "source": [
    "communes_df = observatoriologistico_df[\n",
    "    [\"Código Comuna 2018\", \"Nombre Comuna\", \"Código Provincia\"]\n",
    "].copy()\n",
    "communes_df.columns = [\"id\", \"name\", \"province_id\"]\n",
    "\n",
    "communes_df.to_csv(\"csv/communes.csv\", index=False)\n",
    "communes_df"
   ]
  },
  {
   "cell_type": "markdown",
   "metadata": {},
   "source": [
    "## JSON"
   ]
  },
  {
   "cell_type": "markdown",
   "metadata": {},
   "source": [
    "### Datos Territoriales como objeto JSON"
   ]
  },
  {
   "cell_type": "code",
   "execution_count": null,
   "metadata": {},
   "outputs": [],
   "source": [
    "# Agrupar comunas por provincia_id y construir el diccionario de comunas\n",
    "communes_grouped = communes_df.groupby(\"province_id\")\n",
    "provinces_df[\"communes\"] = provinces_df[\"id\"].apply(\n",
    "    lambda x: {\n",
    "        row[\"id\"]: {\"id\": row[\"id\"], \"name\": row[\"name\"]}\n",
    "        for _, row in communes_grouped.get_group(x).iterrows()\n",
    "        if x in communes_grouped.groups\n",
    "    }\n",
    ")\n",
    "\n",
    "# Agrupar provincias por region_id y construir el diccionario de provincias\n",
    "provinces_grouped = provinces_df.groupby(\"region_id\")\n",
    "regions_df[\"provinces\"] = regions_df[\"id\"].apply(\n",
    "    lambda x: {\n",
    "        row[\"id\"]: {\"id\": row[\"id\"], \"name\": row[\"name\"], \"communes\": row[\"communes\"]}\n",
    "        for _, row in provinces_grouped.get_group(x).iterrows()\n",
    "        if x in provinces_grouped.groups\n",
    "    }\n",
    ")\n",
    "\n",
    "# Construir el diccionario final para el país, asumiendo que el país es Chile\n",
    "cl_country_object = {\n",
    "    \"country\": \"Chile\",\n",
    "    \"countryCode\": \"CL\",\n",
    "    \"regions\": {\n",
    "        row[\"id\"]: {\n",
    "            \"id\": row[\"id\"],\n",
    "            \"name\": row[\"name\"],\n",
    "            \"shortName\": row[\"short_name\"],\n",
    "            \"abbreviation\": row[\"abbreviation\"],\n",
    "            \"isoCode\": row[\"iso_code\"],\n",
    "            \"provinces\": row[\"provinces\"],\n",
    "        }\n",
    "        for _, row in regions_df.iterrows()\n",
    "    },\n",
    "}\n",
    "\n",
    "# Convertir el diccionario a JSON\n",
    "json_object = json.dumps(cl_country_object, ensure_ascii=False, indent=2)\n",
    "\n",
    "# Guardar JSON en un archivo\n",
    "with open(\"json/object.json\", \"w\", encoding=\"utf-8\") as f:\n",
    "    f.write(json_object)\n",
    "\n",
    "# Imprimir el JSON para verificar\n",
    "print(json_object)"
   ]
  },
  {
   "cell_type": "markdown",
   "metadata": {},
   "source": [
    "### Datos Territoriales como arreglo JSON"
   ]
  },
  {
   "cell_type": "code",
   "execution_count": null,
   "metadata": {},
   "outputs": [],
   "source": [
    "regions =  [\n",
    "    {\n",
    "        \"id\": row[\"id\"],\n",
    "        \"name\": row[\"name\"],\n",
    "        \"shortName\": row[\"short_name\"],\n",
    "        \"abbreviation\": row[\"abbreviation\"],\n",
    "        \"isoCode\": row[\"iso_code\"],\n",
    "    }\n",
    "    for _, row in regions_df.iterrows()\n",
    "]\n",
    "# Convertir el arreglo a JSON\n",
    "regions_json = json.dumps(regions, ensure_ascii=False, indent=2)\n",
    "\n",
    "# Guardar JSON en un archivo\n",
    "with open(\"json/regions.json\", \"w\", encoding=\"utf-8\") as f:\n",
    "    f.write(regions_json)\n",
    "\n",
    "# Imprimir el JSON para verificar\n",
    "print(regions)"
   ]
  },
  {
   "cell_type": "code",
   "execution_count": null,
   "metadata": {},
   "outputs": [],
   "source": [
    "provinces = [\n",
    "    {\n",
    "        \"id\": row[\"id\"],\n",
    "        \"name\": row[\"name\"],\n",
    "        \"regionId\": row[\"region_id\"],\n",
    "    }\n",
    "    for _, row in provinces_df.iterrows()\n",
    "]\n",
    "\n",
    "# Convertir el arreglo a JSON\n",
    "provinces_json = json.dumps(provinces, ensure_ascii=False, indent=2)\n",
    "\n",
    "# Guardar JSON en un archivo\n",
    "with open(\"json/provinces.json\", \"w\", encoding=\"utf-8\") as f:\n",
    "    f.write(provinces_json)"
   ]
  },
  {
   "cell_type": "code",
   "execution_count": null,
   "metadata": {},
   "outputs": [],
   "source": [
    "communes = [\n",
    "    {\n",
    "        \"id\": row[\"id\"],\n",
    "        \"name\": row[\"name\"],\n",
    "        \"provinceId\": row[\"province_id\"],\n",
    "    }\n",
    "    for _, row in communes_df.iterrows()\n",
    "]\n",
    "\n",
    "# Convertir el arreglo a JSON\n",
    "communes_json = json.dumps(communes, ensure_ascii=False, indent=2)\n",
    "\n",
    "# Guardar JSON en un archivo\n",
    "with open(\"json/communes.json\", \"w\", encoding=\"utf-8\") as f:\n",
    "    f.write(communes_json)"
   ]
  },
  {
   "cell_type": "markdown",
   "metadata": {},
   "source": [
    "## SQL\n",
    "### Construcción de Región SQL"
   ]
  },
  {
   "cell_type": "code",
   "execution_count": null,
   "metadata": {},
   "outputs": [],
   "source": [
    "# Definir el modelo de la tabla\n",
    "table_model = \"\"\"\n",
    "CREATE TABLE region (\n",
    "    id VARCHAR(2) PRIMARY KEY,\n",
    "    name VARCHAR(255),\n",
    "    short_name VARCHAR(255),\n",
    "    abbreviation VARCHAR(10),\n",
    "    iso_code VARCHAR(10)\n",
    ");\n",
    "\"\"\"\n",
    "\n",
    "# Generar las sentencias INSERT\n",
    "insert_statements = \"\"\n",
    "for _, row in regions_df.iterrows():\n",
    "    insert_statements += f\"INSERT INTO region (id, name, short_name, abbreviation, iso_code) VALUES ('{row['id']}', '{row['name'].replace(\"'\",\"''\")}', '{row['short_name'].replace(\"'\",\"''\")}', '{row['abbreviation']}', '{row['iso_code']}');\\n\"\n",
    "\n",
    "# Combinar el modelo de la tabla y las sentencias INSERT\n",
    "sql_script = table_model + \"\\n\" + insert_statements\n",
    "\n",
    "# Guardar el script SQL en un archivo\n",
    "with open(\"sql/regions.sql\", \"w\", encoding=\"utf-8\") as f:\n",
    "    f.write(sql_script)\n",
    "\n",
    "# Imprimir el script SQL para verificar\n",
    "print(sql_script)"
   ]
  },
  {
   "cell_type": "markdown",
   "metadata": {},
   "source": [
    "### Construcción de Provincia SQL"
   ]
  },
  {
   "cell_type": "code",
   "execution_count": null,
   "metadata": {},
   "outputs": [],
   "source": [
    "# Definir el modelo de la tabla\n",
    "provinces_table_model = \"\"\"\n",
    "CREATE TABLE province (\n",
    "    id VARCHAR(3) PRIMARY KEY,\n",
    "    name VARCHAR(255),\n",
    "    region_id VARCHAR(2),\n",
    "    FOREIGN KEY (region_id) REFERENCES region(id)\n",
    ");\n",
    "\"\"\"\n",
    "\n",
    "# Generar las sentencias INSERT\n",
    "provinces_insert_statements = \"\"\n",
    "for _, row in provinces_df.iterrows():\n",
    "    provinces_insert_statements += f\"INSERT INTO province (id, name, region_id) VALUES ('{row['id']}', '{row['name'].replace(\"'\",\"''\")}', '{row['region_id']}');\\n\"\n",
    "\n",
    "# Combinar el modelo de la tabla y las sentencias INSERT\n",
    "provinces_sql_script = provinces_table_model + \"\\n\" + provinces_insert_statements\n",
    "\n",
    "# Guardar el script SQL en un archivo\n",
    "with open(\"sql/provinces.sql\", \"w\", encoding=\"utf-8\") as f:\n",
    "    f.write(provinces_sql_script)\n",
    "\n",
    "# Imprimir el script SQL para verificar\n",
    "print(provinces_sql_script)"
   ]
  },
  {
   "cell_type": "markdown",
   "metadata": {},
   "source": [
    "### Construcción de Comuna SQL"
   ]
  },
  {
   "cell_type": "code",
   "execution_count": null,
   "metadata": {},
   "outputs": [],
   "source": [
    "# Definir el modelo de la tabla\n",
    "communes_table_model = \"\"\"\n",
    "CREATE TABLE commune (\n",
    "    id VARCHAR(5) PRIMARY KEY,\n",
    "    name VARCHAR(255),\n",
    "    province_id VARCHAR(3),\n",
    "    FOREIGN KEY (province_id) REFERENCES province(id)\n",
    ");\n",
    "\"\"\"\n",
    "\n",
    "# Generar las sentencias INSERT\n",
    "communes_insert_statements = \"\"\n",
    "for _, row in communes_df.iterrows():\n",
    "    communes_insert_statements += f\"INSERT INTO commune (id, name, province_id) VALUES ('{row['id']}', '{row['name'].replace(\"'\",\"''\")}', '{row['province_id']}');\\n\"\n",
    "\n",
    "# Combinar el modelo de la tabla y las sentencias INSERT\n",
    "communes_sql_script = communes_table_model + \"\\n\" + communes_insert_statements\n",
    "\n",
    "# Guardar el script SQL en un archivo\n",
    "with open(\"sql/communes.sql\", \"w\", encoding=\"utf-8\") as f:\n",
    "    f.write(communes_sql_script)\n",
    "\n",
    "# Imprimir el script SQL para verificar\n",
    "print(communes_sql_script)"
   ]
  }
 ],
 "metadata": {
  "kernelspec": {
   "display_name": "Python 3",
   "language": "python",
   "name": "python3"
  },
  "language_info": {
   "codemirror_mode": {
    "name": "ipython",
    "version": 3
   },
   "file_extension": ".py",
   "mimetype": "text/x-python",
   "name": "python",
   "nbconvert_exporter": "python",
   "pygments_lexer": "ipython3",
   "version": "3.10.11"
  }
 },
 "nbformat": 4,
 "nbformat_minor": 2
}
